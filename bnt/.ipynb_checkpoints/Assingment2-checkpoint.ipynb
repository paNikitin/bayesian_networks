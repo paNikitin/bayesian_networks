{
 "cells": [
  {
   "cell_type": "code",
   "execution_count": 2,
   "id": "72bc96ce",
   "metadata": {},
   "outputs": [],
   "source": [
    "from pgmpy.models import BayesianNetwork\n",
    "from pgmpy.factors.discrete.CPD import TabularCPD"
   ]
  },
  {
   "cell_type": "code",
   "execution_count": 3,
   "id": "1c8fb9aa",
   "metadata": {},
   "outputs": [],
   "source": [
    "model = BayesianNetwork([(\"Sunny\",\"Skip\"),(\"Sunny\",\"Ice\"),(\"Ice\",\"Skip\")])"
   ]
  },
  {
   "cell_type": "code",
   "execution_count": 4,
   "id": "496209f6",
   "metadata": {},
   "outputs": [],
   "source": [
    "sunny = TabularCPD(\"Sunny\",2, [[0.53],[0.47]])"
   ]
  },
  {
   "cell_type": "code",
   "execution_count": 5,
   "id": "f65b259f",
   "metadata": {},
   "outputs": [],
   "source": [
    "Eating_Ice = TabularCPD(\n",
    "    \"Ice\",\n",
    "    2,\n",
    "    [\n",
    "        [0.67, 0.22],\n",
    "        [0.33, 0.78],\n",
    "    ],\n",
    "    evidence=[\"Sunny\"],\n",
    "    evidence_card=[2],\n",
    ")"
   ]
  },
  {
   "cell_type": "code",
   "execution_count": 6,
   "id": "ecfaa10a",
   "metadata": {},
   "outputs": [
    {
     "name": "stdout",
     "output_type": "stream",
     "text": [
      "+--------+----------+----------+\n",
      "| Sunny  | Sunny(0) | Sunny(1) |\n",
      "+--------+----------+----------+\n",
      "| Ice(0) | 0.67     | 0.22     |\n",
      "+--------+----------+----------+\n",
      "| Ice(1) | 0.33     | 0.78     |\n",
      "+--------+----------+----------+\n"
     ]
    }
   ],
   "source": [
    "print(Eating_Ice)"
   ]
  },
  {
   "cell_type": "code",
   "execution_count": 7,
   "id": "7cea0e1b",
   "metadata": {},
   "outputs": [
    {
     "name": "stdout",
     "output_type": "stream",
     "text": [
      "+---------+----------+----------+----------+----------+\n",
      "| Sunny   | Sunny(0) | Sunny(0) | Sunny(1) | Sunny(1) |\n",
      "+---------+----------+----------+----------+----------+\n",
      "| Ice     | Ice(0)   | Ice(1)   | Ice(0)   | Ice(1)   |\n",
      "+---------+----------+----------+----------+----------+\n",
      "| Skip(0) | 0.14     | 0.39     | 0.36     | 0.25     |\n",
      "+---------+----------+----------+----------+----------+\n",
      "| Skip(1) | 0.86     | 0.61     | 0.64     | 0.75     |\n",
      "+---------+----------+----------+----------+----------+\n"
     ]
    }
   ],
   "source": [
    "Skipped_Classes = TabularCPD(\n",
    "    \"Skip\",\n",
    "    2,\n",
    "    [\n",
    "        [0.14, 0.39, 0.36, 0.25],\n",
    "        [0.86, 0.61, 0.64, 0.75],\n",
    "    ],\n",
    "    evidence=[\"Sunny\", \"Ice\"],\n",
    "    evidence_card=[2,2],\n",
    ")\n",
    "print(Skipped_Classes)"
   ]
  },
  {
   "cell_type": "code",
   "execution_count": 8,
   "id": "63963599",
   "metadata": {},
   "outputs": [
    {
     "data": {
      "text/plain": [
       "True"
      ]
     },
     "execution_count": 8,
     "metadata": {},
     "output_type": "execute_result"
    }
   ],
   "source": [
    "model.add_cpds(sunny, Eating_Ice, Skipped_Classes)\n",
    "model.check_model()"
   ]
  },
  {
   "cell_type": "code",
   "execution_count": 9,
   "id": "fc959ab6",
   "metadata": {
    "scrolled": false
   },
   "outputs": [
    {
     "data": {
      "image/png": "[encoded data removed]",
      "text/plain": [
       "<Figure size 640x480 with 1 Axes>"
      ]
     },
     "metadata": {},
     "output_type": "display_data"
    }
   ],
   "source": [
    "import networkx as nx\n",
    "import matplotlib.pyplot as plt\n",
    "nx.draw_circular(\n",
    "    model, with_labels=True, arrowsize=30, node_size=1200, alpha=0.4\n",
    ")\n",
    "plt.show()"
   ]
  },
  {
   "cell_type": "code",
   "execution_count": 11,
   "id": "e6281114",
   "metadata": {},
   "outputs": [
    {
     "name": "stdout",
     "output_type": "stream",
     "text": [
      "+---------+-------------+\n",
      "| Skip    |   phi(Skip) |\n",
      "+=========+=============+\n",
      "| Skip(0) |      0.2500 |\n",
      "+---------+-------------+\n",
      "| Skip(1) |      0.7500 |\n",
      "+---------+-------------+\n"
     ]
    }
   ],
   "source": [
    "from pgmpy.inference import VariableElimination\n",
    "infer = VariableElimination(model)\n",
    "\n",
    "posterior_Skip = infer.query(['Skip'], evidence={'Sunny': 1, 'Ice': 1})\n",
    "print(posterior_Skip)"
   ]
  },
  {
   "cell_type": "code",
   "execution_count": 12,
   "id": "ffd50531",
   "metadata": {},
   "outputs": [
    {
     "name": "stdout",
     "output_type": "stream",
     "text": [
      "+----------+--------------+\n",
      "| Sunny    |   phi(Sunny) |\n",
      "+==========+==============+\n",
      "| Sunny(0) |       0.8219 |\n",
      "+----------+--------------+\n",
      "| Sunny(1) |       0.1781 |\n",
      "+----------+--------------+\n"
     ]
    }
   ],
   "source": [
    "infer2 = VariableElimination(model)\n",
    "\n",
    "posterior_Ice = infer.query(['Sunny'], evidence={'Ice': 0, 'Skip': 1})\n",
    "print(posterior_Ice)"
   ]
  },
  {
   "cell_type": "code",
   "execution_count": null,
   "id": "9541017b",
   "metadata": {},
   "outputs": [],
   "source": []
  }
 ],
 "metadata": {
  "kernelspec": {
   "display_name": "Python 3 (ipykernel)",
   "language": "python",
   "name": "python3"
  },
  "language_info": {
   "codemirror_mode": {
    "name": "ipython",
    "version": 3
   },
   "file_extension": ".py",
   "mimetype": "text/x-python",
   "name": "python",
   "nbconvert_exporter": "python",
   "pygments_lexer": "ipython3",
   "version": "3.9.13"
  }
 },
 "nbformat": 4,
 "nbformat_minor": 5
}
